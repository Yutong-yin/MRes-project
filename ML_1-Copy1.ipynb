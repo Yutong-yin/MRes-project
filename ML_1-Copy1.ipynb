{
 "cells": [
  {
   "cell_type": "code",
   "execution_count": 1,
   "metadata": {},
   "outputs": [
    {
     "name": "stdout",
     "output_type": "stream",
     "text": [
      "Requirement already up-to-date: scikit-learn in /Users/yutongyin/opt/anaconda3/lib/python3.7/site-packages (0.23.2)\n",
      "Requirement already satisfied, skipping upgrade: joblib>=0.11 in /Users/yutongyin/opt/anaconda3/lib/python3.7/site-packages (from scikit-learn) (0.13.2)\n",
      "Requirement already satisfied, skipping upgrade: threadpoolctl>=2.0.0 in /Users/yutongyin/opt/anaconda3/lib/python3.7/site-packages (from scikit-learn) (2.0.0)\n",
      "Requirement already satisfied, skipping upgrade: scipy>=0.19.1 in /Users/yutongyin/opt/anaconda3/lib/python3.7/site-packages (from scikit-learn) (1.3.1)\n",
      "Requirement already satisfied, skipping upgrade: numpy>=1.13.3 in /Users/yutongyin/opt/anaconda3/lib/python3.7/site-packages (from scikit-learn) (1.17.2)\n",
      "Note: you may need to restart the kernel to use updated packages.\n"
     ]
    }
   ],
   "source": [
    "pip install -U scikit-learn"
   ]
  },
  {
   "cell_type": "code",
   "execution_count": 10,
   "metadata": {},
   "outputs": [],
   "source": [
    "from sklearn.model_selection import KFold # import KFold\n",
    "from sklearn.metrics import mean_squared_error\n",
    "from sklearn.linear_model import Ridge\n",
    "import numpy as np\n",
    "import pandas as pd\n",
    "from sklearn.metrics import explained_variance_score\n",
    "# Import function to create training and test set splits\n",
    "from sklearn.model_selection import train_test_split\n",
    "# Import function to automatically create polynomial features! \n",
    "from sklearn.preprocessing import PolynomialFeatures\n",
    "# Import Linear Regression and a regularized regression function\n",
    "from sklearn import linear_model\n",
    "from sklearn.linear_model import LinearRegression\n",
    "# Finally, import function to make a machine learning pipeline\n",
    "from sklearn.pipeline import make_pipeline\n",
    "from sklearn import metrics"
   ]
  },
  {
   "cell_type": "code",
   "execution_count": 11,
   "metadata": {},
   "outputs": [
    {
     "name": "stdout",
     "output_type": "stream",
     "text": [
      "         #Set_name      ORF  gRNA length Gene_name Chromosome  ORF_TSS  \\\n",
      "0     broad_tiling  YHR007C           20     ERG11       VIII   121825   \n",
      "1     broad_tiling  YHR007C           20     ERG11       VIII   121825   \n",
      "2     broad_tiling  YHR007C           20     ERG11       VIII   121825   \n",
      "3     broad_tiling  YHR007C           20     ERG11       VIII   121825   \n",
      "4     broad_tiling  YHR007C           20     ERG11       VIII   121825   \n",
      "..             ...      ...          ...       ...        ...      ...   \n",
      "393  gene_tiling20  YIL143C           20      SSL2         IX    83078   \n",
      "394  gene_tiling20  YIL143C           20      SSL2         IX    83078   \n",
      "395  gene_tiling20  YIL143C           20      SSL2         IX    83078   \n",
      "396  gene_tiling20  YIL143C           20      SSL2         IX    83078   \n",
      "397  gene_tiling20  YIL143C           20      SSL2         IX    83078   \n",
      "\n",
      "            Guide_name  Specificity_sequence activation/repression  \\\n",
      "0    ERG11-121332-20bp  ATTTGTCTTCAACGCTAAGT            repression   \n",
      "1    ERG11-121361-20bp  ACTGTGTATTTAGGACCAAA            repression   \n",
      "2    ERG11-121362-20bp  GACTGTGTATTTAGGACCAA            repression   \n",
      "3    ERG11-121370-20bp  AGAGTCATGACTGTGTATTT            repression   \n",
      "4    ERG11-121421-20bp  GAAGAATGTCAAAAGAAATA            repression   \n",
      "..                 ...                   ...                   ...   \n",
      "393    SSL2-83131-20bp  TCTAAGAAGTATAAGGAAAA            repression   \n",
      "394    SSL2-83161-20bp  ATTTCAGATCGTTAGAAACG            repression   \n",
      "395    SSL2-83017-20bp  AAGATTTTCCCCTTGCTCTT            repression   \n",
      "396    SSL2-83021-20bp  TTTTCCCCTTGCTCTTAGGT            repression   \n",
      "397    SSL2-83129-20bp  ACTATTATCTATCCTTACTA            repression   \n",
      "\n",
      "    Aimed_strand ORF_strand  PAM_loc  Guide_midpoint_loc  TSS_distance  \\\n",
      "0       template          -   121332              121345           480   \n",
      "1       template          -   121361              121374           451   \n",
      "2       template          -   121362              121375           450   \n",
      "3       template          -   121370              121383           442   \n",
      "4       template          -   121421              121434           391   \n",
      "..           ...        ...      ...                 ...           ...   \n",
      "393     template          -    83131               83144           -66   \n",
      "394     template          -    83161               83174           -96   \n",
      "395  nontemplate          -    83017               83004            74   \n",
      "396  nontemplate          -    83021               83008            70   \n",
      "397  nontemplate          -    83129               83116           -38   \n",
      "\n",
      "     GC_content  chromatin_accessibility  nucleosome_occupancy  Score  \\\n",
      "0          35.0                 2.871765              0.316207  0.406   \n",
      "1          35.0                 6.342353              0.305063  0.038   \n",
      "2          40.0                 6.361961              0.282501  0.791   \n",
      "3          35.0                 6.028627              0.203691  0.417   \n",
      "4          25.0                 1.656078             -0.028593  0.423   \n",
      "..          ...                      ...                   ...    ...   \n",
      "393        25.0                41.971373             -2.550117 -6.232   \n",
      "394        35.0                25.520392             -1.475200 -3.086   \n",
      "395        40.0                 6.481176              0.575089 -0.945   \n",
      "396        45.0                 6.481176              0.586539 -0.311   \n",
      "397        25.0                42.069412             -2.476773 -6.933   \n",
      "\n",
      "     var(score)  \n",
      "0       0.00463  \n",
      "1       0.02190  \n",
      "2       0.00730  \n",
      "3       0.00453  \n",
      "4       0.02810  \n",
      "..          ...  \n",
      "393     0.64500  \n",
      "394     0.08940  \n",
      "395     0.03710  \n",
      "396     0.01510  \n",
      "397     9.35000  \n",
      "\n",
      "[398 rows x 19 columns]\n"
     ]
    }
   ],
   "source": [
    "ML_data= pd.read_excel('ML training data_draft1.xlsx')\n",
    "print(ML_data)"
   ]
  },
  {
   "cell_type": "code",
   "execution_count": 12,
   "metadata": {},
   "outputs": [
    {
     "data": {
      "text/html": [
       "<div>\n",
       "<style scoped>\n",
       "    .dataframe tbody tr th:only-of-type {\n",
       "        vertical-align: middle;\n",
       "    }\n",
       "\n",
       "    .dataframe tbody tr th {\n",
       "        vertical-align: top;\n",
       "    }\n",
       "\n",
       "    .dataframe thead th {\n",
       "        text-align: right;\n",
       "    }\n",
       "</style>\n",
       "<table border=\"1\" class=\"dataframe\">\n",
       "  <thead>\n",
       "    <tr style=\"text-align: right;\">\n",
       "      <th></th>\n",
       "      <th>#Set_name</th>\n",
       "      <th>ORF</th>\n",
       "      <th>gRNA length</th>\n",
       "      <th>Gene_name</th>\n",
       "      <th>Chromosome</th>\n",
       "      <th>ORF_TSS</th>\n",
       "      <th>Guide_name</th>\n",
       "      <th>Specificity_sequence</th>\n",
       "      <th>activation/repression</th>\n",
       "      <th>Aimed_strand</th>\n",
       "      <th>ORF_strand</th>\n",
       "      <th>PAM_loc</th>\n",
       "      <th>Guide_midpoint_loc</th>\n",
       "      <th>TSS_distance</th>\n",
       "      <th>GC_content</th>\n",
       "      <th>chromatin_accessibility</th>\n",
       "      <th>nucleosome_occupancy</th>\n",
       "      <th>Score</th>\n",
       "      <th>var(score)</th>\n",
       "    </tr>\n",
       "  </thead>\n",
       "  <tbody>\n",
       "    <tr>\n",
       "      <td>0</td>\n",
       "      <td>broad_tiling</td>\n",
       "      <td>YHR007C</td>\n",
       "      <td>20</td>\n",
       "      <td>ERG11</td>\n",
       "      <td>VIII</td>\n",
       "      <td>121825</td>\n",
       "      <td>ERG11-121332-20bp</td>\n",
       "      <td>ATTTGTCTTCAACGCTAAGT</td>\n",
       "      <td>repression</td>\n",
       "      <td>template</td>\n",
       "      <td>-</td>\n",
       "      <td>121332</td>\n",
       "      <td>121345</td>\n",
       "      <td>480</td>\n",
       "      <td>35.0</td>\n",
       "      <td>2.871765</td>\n",
       "      <td>0.316207</td>\n",
       "      <td>0.406</td>\n",
       "      <td>0.00463</td>\n",
       "    </tr>\n",
       "    <tr>\n",
       "      <td>1</td>\n",
       "      <td>broad_tiling</td>\n",
       "      <td>YHR007C</td>\n",
       "      <td>20</td>\n",
       "      <td>ERG11</td>\n",
       "      <td>VIII</td>\n",
       "      <td>121825</td>\n",
       "      <td>ERG11-121361-20bp</td>\n",
       "      <td>ACTGTGTATTTAGGACCAAA</td>\n",
       "      <td>repression</td>\n",
       "      <td>template</td>\n",
       "      <td>-</td>\n",
       "      <td>121361</td>\n",
       "      <td>121374</td>\n",
       "      <td>451</td>\n",
       "      <td>35.0</td>\n",
       "      <td>6.342353</td>\n",
       "      <td>0.305063</td>\n",
       "      <td>0.038</td>\n",
       "      <td>0.02190</td>\n",
       "    </tr>\n",
       "    <tr>\n",
       "      <td>2</td>\n",
       "      <td>broad_tiling</td>\n",
       "      <td>YHR007C</td>\n",
       "      <td>20</td>\n",
       "      <td>ERG11</td>\n",
       "      <td>VIII</td>\n",
       "      <td>121825</td>\n",
       "      <td>ERG11-121362-20bp</td>\n",
       "      <td>GACTGTGTATTTAGGACCAA</td>\n",
       "      <td>repression</td>\n",
       "      <td>template</td>\n",
       "      <td>-</td>\n",
       "      <td>121362</td>\n",
       "      <td>121375</td>\n",
       "      <td>450</td>\n",
       "      <td>40.0</td>\n",
       "      <td>6.361961</td>\n",
       "      <td>0.282501</td>\n",
       "      <td>0.791</td>\n",
       "      <td>0.00730</td>\n",
       "    </tr>\n",
       "    <tr>\n",
       "      <td>3</td>\n",
       "      <td>broad_tiling</td>\n",
       "      <td>YHR007C</td>\n",
       "      <td>20</td>\n",
       "      <td>ERG11</td>\n",
       "      <td>VIII</td>\n",
       "      <td>121825</td>\n",
       "      <td>ERG11-121370-20bp</td>\n",
       "      <td>AGAGTCATGACTGTGTATTT</td>\n",
       "      <td>repression</td>\n",
       "      <td>template</td>\n",
       "      <td>-</td>\n",
       "      <td>121370</td>\n",
       "      <td>121383</td>\n",
       "      <td>442</td>\n",
       "      <td>35.0</td>\n",
       "      <td>6.028627</td>\n",
       "      <td>0.203691</td>\n",
       "      <td>0.417</td>\n",
       "      <td>0.00453</td>\n",
       "    </tr>\n",
       "    <tr>\n",
       "      <td>4</td>\n",
       "      <td>broad_tiling</td>\n",
       "      <td>YHR007C</td>\n",
       "      <td>20</td>\n",
       "      <td>ERG11</td>\n",
       "      <td>VIII</td>\n",
       "      <td>121825</td>\n",
       "      <td>ERG11-121421-20bp</td>\n",
       "      <td>GAAGAATGTCAAAAGAAATA</td>\n",
       "      <td>repression</td>\n",
       "      <td>template</td>\n",
       "      <td>-</td>\n",
       "      <td>121421</td>\n",
       "      <td>121434</td>\n",
       "      <td>391</td>\n",
       "      <td>25.0</td>\n",
       "      <td>1.656078</td>\n",
       "      <td>-0.028593</td>\n",
       "      <td>0.423</td>\n",
       "      <td>0.02810</td>\n",
       "    </tr>\n",
       "  </tbody>\n",
       "</table>\n",
       "</div>"
      ],
      "text/plain": [
       "      #Set_name      ORF  gRNA length Gene_name Chromosome  ORF_TSS  \\\n",
       "0  broad_tiling  YHR007C           20     ERG11       VIII   121825   \n",
       "1  broad_tiling  YHR007C           20     ERG11       VIII   121825   \n",
       "2  broad_tiling  YHR007C           20     ERG11       VIII   121825   \n",
       "3  broad_tiling  YHR007C           20     ERG11       VIII   121825   \n",
       "4  broad_tiling  YHR007C           20     ERG11       VIII   121825   \n",
       "\n",
       "          Guide_name  Specificity_sequence activation/repression Aimed_strand  \\\n",
       "0  ERG11-121332-20bp  ATTTGTCTTCAACGCTAAGT            repression     template   \n",
       "1  ERG11-121361-20bp  ACTGTGTATTTAGGACCAAA            repression     template   \n",
       "2  ERG11-121362-20bp  GACTGTGTATTTAGGACCAA            repression     template   \n",
       "3  ERG11-121370-20bp  AGAGTCATGACTGTGTATTT            repression     template   \n",
       "4  ERG11-121421-20bp  GAAGAATGTCAAAAGAAATA            repression     template   \n",
       "\n",
       "  ORF_strand  PAM_loc  Guide_midpoint_loc  TSS_distance  GC_content  \\\n",
       "0          -   121332              121345           480        35.0   \n",
       "1          -   121361              121374           451        35.0   \n",
       "2          -   121362              121375           450        40.0   \n",
       "3          -   121370              121383           442        35.0   \n",
       "4          -   121421              121434           391        25.0   \n",
       "\n",
       "   chromatin_accessibility  nucleosome_occupancy  Score  var(score)  \n",
       "0                 2.871765              0.316207  0.406     0.00463  \n",
       "1                 6.342353              0.305063  0.038     0.02190  \n",
       "2                 6.361961              0.282501  0.791     0.00730  \n",
       "3                 6.028627              0.203691  0.417     0.00453  \n",
       "4                 1.656078             -0.028593  0.423     0.02810  "
      ]
     },
     "execution_count": 12,
     "metadata": {},
     "output_type": "execute_result"
    }
   ],
   "source": [
    "ML_data.head()"
   ]
  },
  {
   "cell_type": "markdown",
   "metadata": {},
   "source": [
    "# KFOLD CV"
   ]
  },
  {
   "cell_type": "code",
   "execution_count": 16,
   "metadata": {},
   "outputs": [],
   "source": [
    "X=ML_data.iloc[:,13:17].values\n",
    "y=ML_data.iloc[:, 17].values\n",
    "X_train, X_test, y_train, y_test = \\\n",
    "        train_test_split(X, y, test_size=0.2, random_state=0)"
   ]
  },
  {
   "cell_type": "code",
   "execution_count": 17,
   "metadata": {},
   "outputs": [
    {
     "name": "stdout",
     "output_type": "stream",
     "text": [
      "KFold(n_splits=5, random_state=2, shuffle=True)\n"
     ]
    }
   ],
   "source": [
    "#KFOLD\n",
    "kf = KFold(n_splits=5, random_state=2, shuffle=True) # Define the split - into 5 folds \n",
    "print(kf) "
   ]
  },
  {
   "cell_type": "code",
   "execution_count": 18,
   "metadata": {},
   "outputs": [],
   "source": [
    "reg = linear_model.LinearRegression()\n",
    "model = reg.fit(X_train, y_train)"
   ]
  },
  {
   "cell_type": "code",
   "execution_count": 19,
   "metadata": {},
   "outputs": [],
   "source": [
    "def get_score(model, X_train, X_test, y_train, y_test):\n",
    "    model.fit(X_train,y_train)\n",
    "    print(model.coef_)\n",
    "    print(model.intercept_)\n",
    "    return model.score(X_test,y_test)"
   ]
  },
  {
   "cell_type": "code",
   "execution_count": 20,
   "metadata": {
    "scrolled": true
   },
   "outputs": [
    {
     "name": "stdout",
     "output_type": "stream",
     "text": [
      "[-3.81947096e-04  2.81544028e-02 -4.29975373e-04  1.43297313e+00]\n",
      "-2.5523946022824995\n",
      "[-6.71565081e-04  2.12627880e-02 -1.82131932e-03  1.61788111e+00]\n",
      "-2.085970626600925\n",
      "[-6.04415415e-04  3.23350269e-02 -2.60793899e-04  1.38522067e+00]\n",
      "-2.7238930047222665\n",
      "[-3.51023056e-04  2.49549616e-02 -3.45253306e-03  1.30319328e+00]\n",
      "-2.34470071038822\n",
      "[-1.87301299e-04  1.00925079e-03  1.59057608e-03  1.54779786e+00]\n",
      "-1.354921401584575\n"
     ]
    }
   ],
   "source": [
    "scores_linearreg =[]\n",
    "equation_linearreg=[]\n",
    "\n",
    "\n",
    "for train_index, test_index in kf.split(X):\n",
    "   X_train, X_test = X[train_index], X[test_index]\n",
    "   y_train, y_test = y[train_index], y[test_index]\n",
    "   reg = linear_model.LinearRegression()\n",
    "   model = reg.fit(X_train, y_train)\n",
    "   y_test_pred= model.predict(X_test)\n",
    "   mse = mean_squared_error(y_test, y_test_pred)\n",
    "   scores_linearreg.append(mse)\n",
    "   equation_linearreg.append(get_score(LinearRegression(),X_train, X_test, y_train, y_test))"
   ]
  },
  {
   "cell_type": "code",
   "execution_count": 21,
   "metadata": {
    "scrolled": true
   },
   "outputs": [
    {
     "data": {
      "text/plain": [
       "[6.55351411301942,\n",
       " 8.329232956232016,\n",
       " 5.625067842842306,\n",
       " 7.180343405451373,\n",
       " 8.25832042124973]"
      ]
     },
     "execution_count": 21,
     "metadata": {},
     "output_type": "execute_result"
    }
   ],
   "source": [
    "scores_linearreg"
   ]
  },
  {
   "cell_type": "code",
   "execution_count": 22,
   "metadata": {},
   "outputs": [],
   "source": [
    "avg_mse =np.average(scores_linearreg)"
   ]
  },
  {
   "cell_type": "code",
   "execution_count": 23,
   "metadata": {},
   "outputs": [
    {
     "data": {
      "text/plain": [
       "7.189295747758969"
      ]
     },
     "execution_count": 23,
     "metadata": {},
     "output_type": "execute_result"
    }
   ],
   "source": [
    "avg_mse"
   ]
  },
  {
   "cell_type": "code",
   "execution_count": 24,
   "metadata": {},
   "outputs": [
    {
     "data": {
      "text/plain": [
       "[0.13059738026856138,\n",
       " 0.08103125565882985,\n",
       " 0.13982341065511183,\n",
       " 0.20070269566151033,\n",
       " 0.128165657635266]"
      ]
     },
     "execution_count": 24,
     "metadata": {},
     "output_type": "execute_result"
    }
   ],
   "source": [
    "equation_linearreg"
   ]
  },
  {
   "cell_type": "code",
   "execution_count": 25,
   "metadata": {},
   "outputs": [],
   "source": [
    "avg_accuracy =np.average(equation_linearreg)"
   ]
  },
  {
   "cell_type": "code",
   "execution_count": 26,
   "metadata": {},
   "outputs": [
    {
     "data": {
      "text/plain": [
       "0.13606407997585587"
      ]
     },
     "execution_count": 26,
     "metadata": {},
     "output_type": "execute_result"
    }
   ],
   "source": [
    "avg_accuracy"
   ]
  },
  {
   "cell_type": "code",
   "execution_count": 27,
   "metadata": {},
   "outputs": [
    {
     "name": "stdout",
     "output_type": "stream",
     "text": [
      "For degree 1 found average mse value: 7.188979959459809\n",
      "For degree 2 found average mse value: 6.2838409264711474\n",
      "For degree 3 found average mse value: 7.284892696467584\n",
      "For degree 4 found average mse value: 47.19053047040666\n"
     ]
    },
    {
     "name": "stderr",
     "output_type": "stream",
     "text": [
      "/Users/yutongyin/opt/anaconda3/lib/python3.7/site-packages/sklearn/linear_model/_ridge.py:148: LinAlgWarning: Ill-conditioned matrix (rcond=1.5387e-18): result may not be accurate.\n",
      "  overwrite_a=True).T\n",
      "/Users/yutongyin/opt/anaconda3/lib/python3.7/site-packages/sklearn/linear_model/_ridge.py:148: LinAlgWarning: Ill-conditioned matrix (rcond=1.61739e-18): result may not be accurate.\n",
      "  overwrite_a=True).T\n",
      "/Users/yutongyin/opt/anaconda3/lib/python3.7/site-packages/sklearn/linear_model/_ridge.py:148: LinAlgWarning: Ill-conditioned matrix (rcond=1.567e-18): result may not be accurate.\n",
      "  overwrite_a=True).T\n",
      "/Users/yutongyin/opt/anaconda3/lib/python3.7/site-packages/sklearn/linear_model/_ridge.py:148: LinAlgWarning: Ill-conditioned matrix (rcond=1.52907e-18): result may not be accurate.\n",
      "  overwrite_a=True).T\n",
      "/Users/yutongyin/opt/anaconda3/lib/python3.7/site-packages/sklearn/linear_model/_ridge.py:148: LinAlgWarning: Ill-conditioned matrix (rcond=1.7726e-18): result may not be accurate.\n",
      "  overwrite_a=True).T\n",
      "/Users/yutongyin/opt/anaconda3/lib/python3.7/site-packages/sklearn/linear_model/_ridge.py:148: LinAlgWarning: Ill-conditioned matrix (rcond=9.53562e-24): result may not be accurate.\n",
      "  overwrite_a=True).T\n",
      "/Users/yutongyin/opt/anaconda3/lib/python3.7/site-packages/sklearn/linear_model/_ridge.py:148: LinAlgWarning: Ill-conditioned matrix (rcond=1.04325e-23): result may not be accurate.\n",
      "  overwrite_a=True).T\n",
      "/Users/yutongyin/opt/anaconda3/lib/python3.7/site-packages/sklearn/linear_model/_ridge.py:148: LinAlgWarning: Ill-conditioned matrix (rcond=9.43811e-24): result may not be accurate.\n",
      "  overwrite_a=True).T\n",
      "/Users/yutongyin/opt/anaconda3/lib/python3.7/site-packages/sklearn/linear_model/_ridge.py:148: LinAlgWarning: Ill-conditioned matrix (rcond=1.03318e-23): result may not be accurate.\n",
      "  overwrite_a=True).T\n",
      "/Users/yutongyin/opt/anaconda3/lib/python3.7/site-packages/sklearn/linear_model/_ridge.py:148: LinAlgWarning: Ill-conditioned matrix (rcond=1.08296e-23): result may not be accurate.\n",
      "  overwrite_a=True).T\n"
     ]
    }
   ],
   "source": [
    "#testing polynomial relationship with CV\n",
    "\n",
    "for degree in range(1,5):\n",
    "    \n",
    "    poly = make_pipeline(PolynomialFeatures(degree), Ridge())\n",
    "    scores_polylinearreg =[]\n",
    "\n",
    "    for train_index, test_index in kf.split(X):\n",
    "       X_train, X_test = X[train_index], X[test_index]\n",
    "       y_train, y_test = y[train_index], y[test_index]\n",
    "       model = poly.fit(X_train, y_train)\n",
    "       y_test_pred= model.predict(X_test)\n",
    "       mse = mean_squared_error(y_test, y_test_pred)\n",
    "       scores_polylinearreg.append(mse)\n",
    "        \n",
    "    avg =np.average(scores_polylinearreg)\n",
    "    print(\"For degree \"+str(degree)+\" found average mse value: \"+str(avg))"
   ]
  },
  {
   "cell_type": "code",
   "execution_count": 28,
   "metadata": {},
   "outputs": [
    {
     "name": "stdout",
     "output_type": "stream",
     "text": [
      "For degree 1 found average accuracy score : 0.1395663872323873\n",
      "For degree 2 found average accuracy score : 0.2606758141574087\n",
      "For degree 3 found average accuracy score : 0.154872660116726\n",
      "For degree 4 found average accuracy score : -4.168340001770414\n"
     ]
    },
    {
     "name": "stderr",
     "output_type": "stream",
     "text": [
      "/Users/yutongyin/opt/anaconda3/lib/python3.7/site-packages/sklearn/linear_model/_ridge.py:148: LinAlgWarning: Ill-conditioned matrix (rcond=1.5387e-18): result may not be accurate.\n",
      "  overwrite_a=True).T\n",
      "/Users/yutongyin/opt/anaconda3/lib/python3.7/site-packages/sklearn/linear_model/_ridge.py:148: LinAlgWarning: Ill-conditioned matrix (rcond=1.61739e-18): result may not be accurate.\n",
      "  overwrite_a=True).T\n",
      "/Users/yutongyin/opt/anaconda3/lib/python3.7/site-packages/sklearn/linear_model/_ridge.py:148: LinAlgWarning: Ill-conditioned matrix (rcond=1.567e-18): result may not be accurate.\n",
      "  overwrite_a=True).T\n",
      "/Users/yutongyin/opt/anaconda3/lib/python3.7/site-packages/sklearn/linear_model/_ridge.py:148: LinAlgWarning: Ill-conditioned matrix (rcond=1.52907e-18): result may not be accurate.\n",
      "  overwrite_a=True).T\n",
      "/Users/yutongyin/opt/anaconda3/lib/python3.7/site-packages/sklearn/linear_model/_ridge.py:148: LinAlgWarning: Ill-conditioned matrix (rcond=1.7726e-18): result may not be accurate.\n",
      "  overwrite_a=True).T\n",
      "/Users/yutongyin/opt/anaconda3/lib/python3.7/site-packages/sklearn/linear_model/_ridge.py:148: LinAlgWarning: Ill-conditioned matrix (rcond=9.53562e-24): result may not be accurate.\n",
      "  overwrite_a=True).T\n",
      "/Users/yutongyin/opt/anaconda3/lib/python3.7/site-packages/sklearn/linear_model/_ridge.py:148: LinAlgWarning: Ill-conditioned matrix (rcond=1.04325e-23): result may not be accurate.\n",
      "  overwrite_a=True).T\n",
      "/Users/yutongyin/opt/anaconda3/lib/python3.7/site-packages/sklearn/linear_model/_ridge.py:148: LinAlgWarning: Ill-conditioned matrix (rcond=9.43811e-24): result may not be accurate.\n",
      "  overwrite_a=True).T\n",
      "/Users/yutongyin/opt/anaconda3/lib/python3.7/site-packages/sklearn/linear_model/_ridge.py:148: LinAlgWarning: Ill-conditioned matrix (rcond=1.03318e-23): result may not be accurate.\n",
      "  overwrite_a=True).T\n",
      "/Users/yutongyin/opt/anaconda3/lib/python3.7/site-packages/sklearn/linear_model/_ridge.py:148: LinAlgWarning: Ill-conditioned matrix (rcond=1.08296e-23): result may not be accurate.\n",
      "  overwrite_a=True).T\n"
     ]
    }
   ],
   "source": [
    "#testing polynomial relationship with CV\n",
    "\n",
    "for degree in range(1,5):\n",
    "    \n",
    "    poly = make_pipeline(PolynomialFeatures(degree), Ridge())\n",
    "    scores_polylinearreg =[]\n",
    "\n",
    "    for train_index, test_index in kf.split(X):\n",
    "       X_train, X_test = X[train_index], X[test_index]\n",
    "       y_train, y_test = y[train_index], y[test_index]\n",
    "       model = poly.fit(X_train, y_train)\n",
    "       y_test_pred= model.predict(X_test)\n",
    "       predscore = explained_variance_score(y_test, y_test_pred)\n",
    "       scores_polylinearreg.append(predscore)\n",
    "    \n",
    "    avg =np.average(scores_polylinearreg)\n",
    "    print(\"For degree \"+str(degree)+\" found average accuracy score : \"+str(avg))"
   ]
  }
 ],
 "metadata": {
  "kernelspec": {
   "display_name": "Python 3",
   "language": "python",
   "name": "python3"
  },
  "language_info": {
   "codemirror_mode": {
    "name": "ipython",
    "version": 3
   },
   "file_extension": ".py",
   "mimetype": "text/x-python",
   "name": "python",
   "nbconvert_exporter": "python",
   "pygments_lexer": "ipython3",
   "version": "3.7.4"
  }
 },
 "nbformat": 4,
 "nbformat_minor": 2
}
